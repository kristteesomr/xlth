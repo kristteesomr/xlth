{
 "cells": [
  {
   "cell_type": "code",
   "execution_count": 6,
   "id": "548387cc",
   "metadata": {},
   "outputs": [],
   "source": [
    "# TS. Nguyễn Hồng Quang\n",
    "# Viện CNTT-TT\n",
    "# Trường ĐHBKHN\n",
    "# Ngày 22 tháng 10 năm 2021\n",
    "# Bài tập 1.16 \n",
    "import numpy as np\n",
    "import matplotlib.pyplot as plt\n",
    "import math\n",
    "#import mpmath\n",
    "#from mpmath import mp"
   ]
  },
  {
   "cell_type": "code",
   "execution_count": 7,
   "id": "35508e8f",
   "metadata": {},
   "outputs": [],
   "source": [
    "f0 = 1/50\n",
    "L = 64\n",
    "N = 200"
   ]
  },
  {
   "cell_type": "code",
   "execution_count": 8,
   "id": "c7f0e028",
   "metadata": {},
   "outputs": [
    {
     "data": {
      "image/png": "[encoded data removed]",
      "text/plain": [
       "<Figure size 432x288 with 1 Axes>"
      ]
     },
     "metadata": {
      "needs_background": "light"
     },
     "output_type": "display_data"
    }
   ],
   "source": [
    "n = np.arange(N)\n",
    "xn = np.sin(2 * math.pi * f0 * n)\n",
    "#xn = [mpmath.sin(2 * math.pi * f0 * n1) for n1 in n ]\n",
    "#plt.plot(n, xn)\n",
    "plt.stem(n, xn)\n",
    "plt.show()"
   ]
  },
  {
   "cell_type": "code",
   "execution_count": 109,
   "id": "c6533777",
   "metadata": {},
   "outputs": [
    {
     "name": "stdout",
     "output_type": "stream",
     "text": [
      "delta:  0.03125\n"
     ]
    }
   ],
   "source": [
    "def quantization(xn, L):\n",
    "    xqn_truncation = []\n",
    "    xqn_rounding = []\n",
    "    min = -1\n",
    "    delta = 2.0 / L\n",
    "    print(\"delta: \", delta)\n",
    "    for sample in xn: \n",
    "        low_level = int((sample - min) / delta ) * delta + min\n",
    "        high_level = int((sample - min) / delta ) * delta + min + delta\n",
    "        #print(sample , low_level, high_level)\n",
    "        \n",
    "        if sample < low_level or sample > high_level: print(\"ERROR\")\n",
    "        \n",
    "        # Truncation \n",
    "        #if sample > 0: xqn_truncation.append(low_level)\n",
    "        #else: xqn_truncation.append(high_level)\n",
    "        xqn_truncation.append(low_level)\n",
    "        \n",
    "        # Rounding \n",
    "        if abs(sample - low_level) > abs(sample - high_level):\n",
    "            xqn_rounding.append(high_level)\n",
    "        else:\n",
    "            xqn_rounding.append(low_level)\n",
    "        \n",
    "    return xqn_truncation, xqn_rounding  \n",
    "\n",
    "xqn_truncation, xqn_rounding = quantization(xn, 64)"
   ]
  },
  {
   "cell_type": "code",
   "execution_count": 110,
   "id": "10c06f9e",
   "metadata": {},
   "outputs": [
    {
     "name": "stdout",
     "output_type": "stream",
     "text": [
      "Px:  0.5000000000000007\n"
     ]
    }
   ],
   "source": [
    "def power_signal(signal): \n",
    "    P = 0\n",
    "    for sample in signal: \n",
    "        P += sample * sample     \n",
    "    P = P / len(signal)\n",
    "    return P\n",
    "\n",
    "\n",
    "print(\"Px: \", power_signal(xn))"
   ]
  },
  {
   "cell_type": "code",
   "execution_count": 111,
   "id": "c8d3a920",
   "metadata": {},
   "outputs": [
    {
     "name": "stdout",
     "output_type": "stream",
     "text": [
      "Number of levels:  64\n",
      "Number of bits:  6.0\n",
      "delta:  0.03125\n",
      "\n",
      "Pe truncation:  0.00036775405428018866\n",
      "SQNR trunction:  31.334125350593386\n",
      "\n",
      "Pe rounding:  6.008475040794629e-05\n",
      "SQNR rounding:  39.20205742883175\n",
      "\n",
      "SQNR in theory:  37.879999999999995\n"
     ]
    }
   ],
   "source": [
    "def SQNR(Px, Pe):\n",
    "    return 10 * math.log10(Px/Pe)\n",
    "\n",
    "def quantization_summary(xn, L):\n",
    "    print(\"Number of levels: \", L)\n",
    "    print(\"Number of bits: \", math.log2(L))\n",
    "\n",
    "    xqn_truncation, xqn_rounding = quantization(xn, L)\n",
    "    eq_truncation = []\n",
    "    for i in range(N):\n",
    "        eq_truncation.append(xqn_truncation[i] - xn[i])\n",
    "\n",
    "    print(\"\\nPe truncation: \", power_signal(eq_truncation))\n",
    "    print(\"SQNR trunction: \", SQNR(power_signal(xn), power_signal(eq_truncation)))\n",
    "\n",
    "    eq_rounding = []\n",
    "    for i in range(N):\n",
    "        eq_rounding.append(xqn_rounding[i] - xn[i])\n",
    "\n",
    "    print(\"\\nPe rounding: \", power_signal(eq_rounding))\n",
    "    print(\"SQNR rounding: \", SQNR(power_signal(xn), power_signal(eq_rounding)))\n",
    "    print(\"\\nSQNR in theory: \", 1.76 + 6.02 * math.log2(L))\n",
    "\n",
    "quantization_summary(xn, 64)"
   ]
  },
  {
   "cell_type": "code",
   "execution_count": 107,
   "id": "1887f268",
   "metadata": {},
   "outputs": [
    {
     "name": "stdout",
     "output_type": "stream",
     "text": [
      "Number of levels:  128\n",
      "Number of bits:  7.0\n",
      "delta:  0.015625\n",
      "\n",
      "Pe truncation:  9.18490898440675e-5\n",
      "SQNR trunction:  37.35895147207068\n",
      "\n",
      "Pe rounding:  1.11242545335263e-5\n",
      "SQNR rounding:  46.52699086959317\n",
      "\n",
      "SQNR in theory:  43.9\n"
     ]
    }
   ],
   "source": [
    "quantization_summary(xn, 128)"
   ]
  },
  {
   "cell_type": "code",
   "execution_count": 98,
   "id": "76c4aa85",
   "metadata": {},
   "outputs": [
    {
     "name": "stdout",
     "output_type": "stream",
     "text": [
      "Number of levels:  256\n",
      "Number of bits:  8.0\n",
      "delta:  0.0078125\n",
      "\n",
      "Pe truncation:  2.096909406379687e-05\n",
      "SQNR trunction:  43.773903364645186\n",
      "\n",
      "Pe rounding:  3.6121447852282896e-06\n",
      "SQNR rounding:  51.412048545645696\n",
      "\n",
      "SQNR in theory:  49.919999999999995\n"
     ]
    }
   ],
   "source": [
    "quantization_summary(xn, 256)"
   ]
  },
  {
   "cell_type": "code",
   "execution_count": 99,
   "id": "a07146b1",
   "metadata": {},
   "outputs": [
    {
     "name": "stdout",
     "output_type": "stream",
     "text": [
      "200\n"
     ]
    }
   ],
   "source": [
    "print(N)"
   ]
  },
  {
   "cell_type": "code",
   "execution_count": null,
   "id": "46c51c0b",
   "metadata": {},
   "outputs": [],
   "source": []
  }
 ],
 "metadata": {
  "kernelspec": {
   "display_name": "Python 3",
   "language": "python",
   "name": "python3"
  },
  "language_info": {
   "codemirror_mode": {
    "name": "ipython",
    "version": 3
   },
   "file_extension": ".py",
   "mimetype": "text/x-python",
   "name": "python",
   "nbconvert_exporter": "python",
   "pygments_lexer": "ipython3",
   "version": "3.8.8"
  }
 },
 "nbformat": 4,
 "nbformat_minor": 5
}
