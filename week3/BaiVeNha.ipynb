{
 "cells": [
  {
   "cell_type": "code",
   "execution_count": null,
   "id": "8e71189c",
   "metadata": {},
   "outputs": [],
   "source": [
    "Super Idol的笑容\n",
    "都没你的甜\n",
    "八月正午的阳光\n",
    "都没你耀眼\n",
    "热爱 105 °C的你\n",
    "滴滴清纯的蒸馏水\n",
    "你不知道你有多可爱\n",
    "跌倒后会傻笑着再站起来\n"
   ]
  }
 ],
 "metadata": {
  "kernelspec": {
   "display_name": "Python 3 (ipykernel)",
   "language": "python",
   "name": "python3"
  },
  "language_info": {
   "codemirror_mode": {
    "name": "ipython",
    "version": 3
   },
   "file_extension": ".py",
   "mimetype": "text/x-python",
   "name": "python",
   "nbconvert_exporter": "python",
   "pygments_lexer": "ipython3",
   "version": "3.8.10"
  }
 },
 "nbformat": 4,
 "nbformat_minor": 5
}
